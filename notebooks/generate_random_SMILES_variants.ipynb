{
 "cells": [
  {
   "cell_type": "code",
   "execution_count": 1,
   "id": "4271fe7c-a77b-46db-b1a6-ed7eb7561c05",
   "metadata": {},
   "outputs": [],
   "source": [
    "import pandas as pd\n",
    "from rdkit import Chem\n",
    "from rdkit.Chem import MolToSmiles\n",
    "import re\n",
    "import tqdm"
   ]
  },
  {
   "cell_type": "code",
   "execution_count": 2,
   "id": "5d369adb-da40-4e63-bf8e-7fa56b027a10",
   "metadata": {},
   "outputs": [],
   "source": [
    "df = pd.read_csv('../data/antidiabetic/antidiabetic_molecules_smiles.csv')"
   ]
  },
  {
   "cell_type": "code",
   "execution_count": 3,
   "id": "7d7b92e6-fd4e-4d77-8d25-92df269e6113",
   "metadata": {},
   "outputs": [],
   "source": [
    "def remove_slashes(text: str) -> str:\n",
    "    #import re\n",
    "    \"\"\"\n",
    "    Removes all forward and backward slashes from the input string.\n",
    "\n",
    "    Parameters:\n",
    "    text (str): The input string.\n",
    "\n",
    "    Returns:\n",
    "    str: The string without forward and backward slashes.\n",
    "    \"\"\"\n",
    "    return re.sub(r'[\\\\/]', '', text)\n",
    "\n",
    "df['SMILES'] = df['SMILES'].apply(remove_slashes)"
   ]
  },
  {
   "cell_type": "code",
   "execution_count": 4,
   "id": "4a2c1231-a86d-4507-a573-6e82a76c9c19",
   "metadata": {},
   "outputs": [],
   "source": [
    "def smiles_to_mol(df: pd.DataFrame, smiles_column: str = 'SMILES') -> pd.DataFrame:\n",
    "    \"\"\"\n",
    "    Converts SMILES strings to molecule objects with hydrogen atoms appended.\n",
    "    \n",
    "    Parameters:\n",
    "    df (pd.DataFrame): Input DataFrame with SMILES column.\n",
    "    smiles_column (str): Name of the column containing SMILES strings (default 'SMILES').\n",
    "    \n",
    "    Returns:\n",
    "    pd.DataFrame: DataFrame with 'MOL' column appended containing molecule objects.\n",
    "    \"\"\"\n",
    "    mol_list = []\n",
    "    \n",
    "    for smile in df[smiles_column]:\n",
    "        mol = Chem.MolFromSmiles(smile)\n",
    "        if mol is not None:\n",
    "            mol = Chem.AddHs(mol)\n",
    "        mol_list.append(mol)\n",
    "    \n",
    "    df['MOL'] = mol_list\n",
    "    return df"
   ]
  },
  {
   "cell_type": "code",
   "execution_count": 5,
   "id": "3004eb59-ab92-4f53-b5f2-5f8e3da7eb73",
   "metadata": {},
   "outputs": [],
   "source": [
    "df = smiles_to_mol(df)"
   ]
  },
  {
   "cell_type": "code",
   "execution_count": 6,
   "id": "379f9eb1-f990-4de2-98d1-ef8b79c056a0",
   "metadata": {},
   "outputs": [
    {
     "name": "stderr",
     "output_type": "stream",
     "text": [
      "100%|███████████████████████████████████████████| 46/46 [00:28<00:00,  1.60it/s]"
     ]
    },
    {
     "name": "stdout",
     "output_type": "stream",
     "text": [
      "SMILES variants successfully written to ANTIDIABETIC_smiles_variants.txt\n"
     ]
    },
    {
     "name": "stderr",
     "output_type": "stream",
     "text": [
      "\n"
     ]
    }
   ],
   "source": [
    "def generate_smiles_variants(smiles_str):\n",
    "    mol = Chem.MolFromSmiles(smiles_str)\n",
    "    smiles_variants = set()\n",
    "    for i in range(10000):\n",
    "        smiles_variants.add(MolToSmiles(mol, canonical=False, doRandom=True))\n",
    "    return smiles_variants\n",
    "\n",
    "# Generate SMILES variants and write to file\n",
    "with open('../data/antidiabetic/ANTIDIABETIC_smiles_variants1.txt', 'w') as file:\n",
    "    for index, row in tqdm.tqdm(df.iterrows(), total=len(df)):\n",
    "        variants = generate_smiles_variants(row['SMILES'])\n",
    "        for variant in variants:\n",
    "            file.write(variant + '\\n')\n",
    "\n",
    "print(\"SMILES variants successfully written to ANTIDIABETIC_smiles_variants.txt\")"
   ]
  },
  {
   "cell_type": "code",
   "execution_count": null,
   "id": "b28463dd-5799-4ff6-bd3c-790af1a6f20b",
   "metadata": {},
   "outputs": [],
   "source": []
  }
 ],
 "metadata": {
  "kernelspec": {
   "display_name": "Python 3 (ipykernel)",
   "language": "python",
   "name": "python3"
  },
  "language_info": {
   "codemirror_mode": {
    "name": "ipython",
    "version": 3
   },
   "file_extension": ".py",
   "mimetype": "text/x-python",
   "name": "python",
   "nbconvert_exporter": "python",
   "pygments_lexer": "ipython3",
   "version": "3.12.2"
  }
 },
 "nbformat": 4,
 "nbformat_minor": 5
}
