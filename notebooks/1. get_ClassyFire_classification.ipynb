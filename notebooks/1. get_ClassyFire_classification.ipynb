{
 "cells": [
  {
   "cell_type": "code",
   "execution_count": 1,
   "id": "cadffbb8-6f42-45fd-95ee-245c0b43d677",
   "metadata": {},
   "outputs": [],
   "source": [
    "import pandas as pd\n",
    "\n",
    "df_a = pd.read_csv(\"../data/antidiabetic/antidiabetic_molecules_smiles.csv\")\n",
    "df_non_a = pd.read_csv(\"../data/non_antidiabetic/non_antidiabetic_molecules_smiles.csv\")"
   ]
  },
  {
   "cell_type": "code",
   "execution_count": 2,
   "id": "d332ddfd-722a-44de-9176-eba7b05803a3",
   "metadata": {},
   "outputs": [],
   "source": [
    "import requests\n",
    "import json\n",
    "import time\n",
    "\n",
    "def getClassyFire(SMILES:str, ID:str=None):\n",
    "    \"\"\"The code you provided seems to define a function named getClassyFire that sends a POST request \n",
    "    to the ClassyFire API to retrieve information about a chemical compound represented by its SMILES notation. \n",
    "    This function takes a SMILES string as input and an optional ID parameter.\n",
    "\n",
    "    Here's a breakdown of how the function works:\n",
    "\n",
    "    The url variable contains the API endpoint URL for sending the request to the ClassyFire service.\n",
    "\n",
    "    The label variable is set to either the provided ID or a default value (\"MyQueryLabel\") if no ID is provided.\n",
    "\n",
    "    The query_type variable is set to \"STRUCTURE\", indicating that the query is based on the chemical structure.\n",
    "\n",
    "    The payload dictionary contains the data that will be sent in the request. It includes the label, \n",
    "    the SMILES string (query_input), and the query type.\n",
    "\n",
    "    The headers dictionary specifies the content type and the accepted response format.\n",
    "\n",
    "    Inside a try-except block, a POST request is made using the requests.post method. The data parameter contains\n",
    "    the JSON-encoded payload, and the headers are provided.\n",
    "\n",
    "    If the request is successful (no exceptions are raised), the function returns the response content \n",
    "    as a string (response.text). If there's an exception (such as a request error), an error message is printed.\"\"\"\n",
    "    \n",
    "    # URL для отправки запроса\n",
    "    url = \"http://classyfire.wishartlab.com/queries\"\n",
    "    # Метка запроса\n",
    "    if ID:\n",
    "        label = ID\n",
    "    else:\n",
    "        label = \"MyQueryLabel\"\n",
    "\n",
    "    # Тип запроса (STRUCTURE)\n",
    "    query_type = \"STRUCTURE\"\n",
    "\n",
    "    # Параметры для запроса\n",
    "    payload = {\n",
    "        \"label\": label,\n",
    "        \"query_input\": SMILES, #input_data,\n",
    "        \"query_type\": query_type\n",
    "    }\n",
    "\n",
    "    # Опции для заголовков\n",
    "    headers = {\n",
    "        \"Content-Type\": \"application/json\",\n",
    "        \"Accept\": \"application/json\"\n",
    "    }\n",
    "\n",
    "    try:\n",
    "        # Отправка POST-запроса\n",
    "        response = requests.post(url, data=json.dumps(payload), headers=headers)\n",
    "        data_dict = json.loads(response.text)\n",
    "        # time.sleep(61)\n",
    "        URL = url +'/'+ str(data_dict['id'])+'.json'\n",
    "        response2 = requests.get(URL)\n",
    "        return response2.text\n",
    "        # data_dict2 = json.loads(response2.text)\n",
    "        # entities_data = data_dict2.get('entities', [])\n",
    "        # df = pd.DataFrame(entities_data)\n",
    "        # return df\n",
    "    except requests.exceptions.RequestException as e:\n",
    "        print(\"Ошибка при выполнении запроса:\", e)\n",
    "    except KeyError:\n",
    "        if data_dict['error'] == 'Limit exceeded':\n",
    "            time.sleep(61)\n",
    "            getClassyFire(SMILES, ID)"
   ]
  },
  {
   "cell_type": "code",
   "execution_count": 3,
   "id": "43bfc39f-8a46-4063-8012-0d4959f2394b",
   "metadata": {},
   "outputs": [
    {
     "data": {
      "text/plain": [
       "'{\"id\":12590253,\"label\":\"MyQueryLabel\",\"classification_status\":\"In Queue\",\"number_of_elements\":0,\"number_of_pages\":0,\"invalid_entities\":[],\"entities\":[]}'"
      ]
     },
     "execution_count": 3,
     "metadata": {},
     "output_type": "execute_result"
    }
   ],
   "source": [
    "response_text = getClassyFire('F[C@H](CC(N1CCn2c(nnc2C(F)(F)F)C1)=O)N')\n",
    "response_text"
   ]
  },
  {
   "cell_type": "markdown",
   "id": "32f56fbf-14ad-4f2e-9093-a82474c8e134",
   "metadata": {},
   "source": [
    "'{\"id\":12133074,\"label\":\"MyQueryLabel\",\"classification_status\":\"Done\",\"number_of_elements\":1,\"number_of_pages\":1,\"invalid_entities\":[],\"entities\":[{\"identifier\":\"Q12133074-1\",\"smiles\":\"C[C@H](O)C1=CC=CC=C1\",\"inchikey\":\"InChIKey=WAPNOHKVXSQRPX-ZETCQYMHSA-N\",\"kingdom\":{\"name\":\"Organic compounds\",\"description\":\"Compounds that contain at least one carbon atom, excluding isocyanide/cyanide and their non-hydrocarbyl derivatives, thiophosgene, carbon diselenide, carbon monosulfide, carbon disulfide, carbon subsulfide, carbon monoxide, carbon dioxide, Carbon suboxide, and dicarbon monoxide.\",\"chemont_id\":\"CHEMONTID:0000000\",\"url\":\"http://classyfire.wishartlab.com/tax_nodes/C0000000\"},\"superclass\":{\"name\":\"Benzenoids\",\"description\":\"Aromatic compounds containing one or more benzene rings.\",\"chemont_id\":\"CHEMONTID:0002448\",\"url\":\"http://classyfire.wishartlab.com/tax_nodes/C0002448\"},\"class\":{\"name\":\"Benzene and substituted derivatives\",\"description\":\"Aromatic compounds containing one monocyclic ring system consisting of benzene.\",\"chemont_id\":\"CHEMONTID:0002279\",\"url\":\"http://classyfire.wishartlab.com/tax_nodes/C0002279\"},\"subclass\":null,\"intermediate_nodes\":[],\"direct_parent\":{\"name\":\"Benzene and substituted derivatives\",\"description\":\"Aromatic compounds containing one monocyclic ring system consisting of benzene.\",\"chemont_id\":\"CHEMONTID:0002279\",\"url\":\"http://classyfire.wishartlab.com/tax_nodes/C0002279\"},\"alternative_parents\":[{\"name\":\"Secondary alcohols\",\"description\":\"Compounds containing a secondary alcohol functional group, with the general structure HOC(R)(R\\') (R,R\\'=alkyl, aryl).\",\"chemont_id\":\"CHEMONTID:0001661\",\"url\":\"http://classyfire.wishartlab.com/tax_nodes/C0001661\"},{\"name\":\"Hydrocarbon derivatives\",\"description\":\"Derivatives of hydrocarbons obtained by substituting one or more carbon atoms by an heteroatom. They contain at least one carbon atom and heteroatom.\",\"chemont_id\":\"CHEMONTID:0004150\",\"url\":\"http://classyfire.wishartlab.com/tax_nodes/C0004150\"},{\"name\":\"Aromatic alcohols\",\"description\":\"Compounds containing an alcohol group attached to an aromatic carbon.\",\"chemont_id\":\"CHEMONTID:0003073\",\"url\":\"http://classyfire.wishartlab.com/tax_nodes/C0003073\"}],\"molecular_framework\":\"Aromatic homomonocyclic compounds\",\"substituents\":[\"Monocyclic benzene moiety\",\"Secondary alcohol\",\"Organic oxygen compound\",\"Hydrocarbon derivative\",\"Aromatic alcohol\",\"Organooxygen compound\",\"Alcohol\",\"Aromatic homomonocyclic compound\"],\"description\":\"This compound belongs to the class of organic compounds known as benzene and substituted derivatives. These are aromatic compounds containing one monocyclic ring system consisting of benzene.\",\"external_descriptors\":[{\"source\":\"CHEBI\",\"source_id\":\"CHEBI:16346\",\"annotations\":[\"1-phenylethanol\"]}],\"ancestors\":[\"Alcohols and polyols\",\"Aromatic alcohols\",\"Benzene and substituted derivatives\",\"Benzenoids\",\"Chemical entities\",\"Hydrocarbon derivatives\",\"Organic compounds\",\"Organic oxygen compounds\",\"Organooxygen compounds\",\"Secondary alcohols\"],\"predicted_chebi_terms\":[\"secondary alcohol (CHEBI:35681)\",\"organic molecule (CHEBI:72695)\",\"aromatic alcohol (CHEBI:33854)\",\"benzenes (CHEBI:22712)\",\"chemical entity (CHEBI:24431)\",\"oxygen molecular entity (CHEBI:25806)\",\"organic molecular entity (CHEBI:50860)\",\"organooxygen compound (CHEBI:36963)\",\"polyol (CHEBI:26191)\",\"organic hydroxy compound (CHEBI:33822)\",\"alcohol (CHEBI:30879)\",\"benzenoid aromatic compound (CHEBI:33836)\"],\"predicted_lipidmaps_terms\":[],\"classification_version\":\"2.1\"}]}'"
   ]
  },
  {
   "cell_type": "code",
   "execution_count": null,
   "id": "79f41c27-e9f5-4d97-8f7f-0780161beb35",
   "metadata": {},
   "outputs": [],
   "source": [
    "import json\n",
    "from typing import Dict, Any, List\n",
    "\n",
    "def parse_classyfire_ids(response_text: str) -> Dict[str, str]:\n",
    "    \"\"\"\n",
    "    Extracts identifiers and names from the response of the ClassyFire API.\n",
    "    \n",
    "    Args:\n",
    "        response_text: A JSON string from the ClassyFire API response\n",
    "    \n",
    "    Returns:\n",
    "        Dict[str, str]: A dictionary where keys are identifiers and values are names\n",
    "        \n",
    "    Raises:\n",
    "        json.JSONDecodeError: if the JSON is malformed\n",
    "        KeyError: if required fields are missing in the data\n",
    "    \"\"\"\n",
    "\n",
    "    result: Dict[str, str] = {}\n",
    "    \n",
    "    try:\n",
    "        data = json.loads(response_text)\n",
    "        \n",
    "        # Get the first entity from the list\n",
    "        if not data.get('entities') or not data['entities'][0]:\n",
    "            return result\n",
    "            \n",
    "        entity = data['entities'][0]\n",
    "        \n",
    "        # Processing predicted_chebi_terms\n",
    "        chebi_terms: List[str] = entity.get('predicted_chebi_terms', [])\n",
    "        for term in chebi_terms:\n",
    "            # Extract CHEBI ID and name from a string in the format \"name (CHEBI:id)\"\n",
    "            if '(' in term and ')' in term:\n",
    "                name, chebi_id = term.split(' (')\n",
    "                chebi_id = chebi_id.rstrip(')')\n",
    "                result[chebi_id] = name\n",
    "        \n",
    "        # Processing all nodes with CHEMONTID\n",
    "        nodes_to_check = [\n",
    "            entity.get('kingdom', {}),\n",
    "            entity.get('superclass', {}),\n",
    "            entity.get('class', {}),\n",
    "            entity.get('subclass', {}),\n",
    "            entity.get('direct_parent', {})\n",
    "        ]\n",
    "        nodes_to_check.extend(entity.get('alternative_parents', []))\n",
    "        nodes_to_check.extend(entity.get('intermediate_nodes', []))\n",
    "        \n",
    "        for node in nodes_to_check:\n",
    "            if node and 'chemont_id' in node and 'name' in node:\n",
    "                result[node['chemont_id']] = node['name']\n",
    "                \n",
    "    except (json.JSONDecodeError, KeyError) as e:\n",
    "        print(f\"Error processing data: {e}\")\n",
    "        \n",
    "    return result"
   ]
  },
  {
   "cell_type": "code",
   "execution_count": null,
   "id": "eb522abd-89a7-470a-a0e1-37d3142c694b",
   "metadata": {},
   "outputs": [],
   "source": [
    "parse_classyfire_ids(response_text)"
   ]
  },
  {
   "cell_type": "markdown",
   "id": "3eb11ade-52ce-4fce-9241-0c4cc5818514",
   "metadata": {},
   "source": [
    "{'CHEBI:35681': 'secondary alcohol',\n",
    " 'CHEBI:72695': 'organic molecule',\n",
    " 'CHEBI:33854': 'aromatic alcohol',\n",
    " 'CHEBI:22712': 'benzenes',\n",
    " 'CHEBI:24431': 'chemical entity',\n",
    " 'CHEBI:25806': 'oxygen molecular entity',\n",
    " 'CHEBI:50860': 'organic molecular entity',\n",
    " 'CHEBI:36963': 'organooxygen compound',\n",
    " 'CHEBI:26191': 'polyol',\n",
    " 'CHEBI:33822': 'organic hydroxy compound',\n",
    " 'CHEBI:30879': 'alcohol',\n",
    " 'CHEBI:33836': 'benzenoid aromatic compound',\n",
    " 'CHEMONTID:0000000': 'Organic compounds',\n",
    " 'CHEMONTID:0002448': 'Benzenoids',\n",
    " 'CHEMONTID:0002279': 'Benzene and substituted derivatives',\n",
    " 'CHEMONTID:0001661': 'Secondary alcohols',\n",
    " 'CHEMONTID:0004150': 'Hydrocarbon derivatives',\n",
    " 'CHEMONTID:0003073': 'Aromatic alcohols'}"
   ]
  },
  {
   "cell_type": "code",
   "execution_count": null,
   "id": "b2abe626-31a7-4c52-8d39-415841041b8a",
   "metadata": {},
   "outputs": [],
   "source": []
  }
 ],
 "metadata": {
  "kernelspec": {
   "display_name": "Python 3 (ipykernel)",
   "language": "python",
   "name": "python3"
  },
  "language_info": {
   "codemirror_mode": {
    "name": "ipython",
    "version": 3
   },
   "file_extension": ".py",
   "mimetype": "text/x-python",
   "name": "python",
   "nbconvert_exporter": "python",
   "pygments_lexer": "ipython3",
   "version": "3.12.2"
  }
 },
 "nbformat": 4,
 "nbformat_minor": 5
}
