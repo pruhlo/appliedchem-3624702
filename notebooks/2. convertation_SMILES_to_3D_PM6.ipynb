{
 "cells": [
  {
   "cell_type": "markdown",
   "id": "ee984255-050c-479c-b0e9-3fbefdd6c961",
   "metadata": {},
   "source": [
    "# All calculations were performed within a Docker containerized environment, ensuring computational consistency and reproducibility across all experiments."
   ]
  },
  {
   "cell_type": "markdown",
   "id": "c1798f8c-3ace-4d39-bc6a-b9dd0ca4710e",
   "metadata": {},
   "source": [
    "### Dockerfile:"
   ]
  },
  {
   "cell_type": "markdown",
   "id": "8dd1c78e-9396-4f46-a945-788fe2b27708",
   "metadata": {},
   "source": [
    "```\n",
    "# Use the miniconda3 base image\n",
    "FROM continuumio/miniconda3\n",
    "\n",
    "# Set environment variables for the Gaussian directory\n",
    "ENV GAUSS_EXEDIR=/opt/gaussian/g16\n",
    "ENV GAUSS_SCRDIR=/opt/gaussian/scr\n",
    "\n",
    "# Copy the Gaussian installation files into the container\n",
    "# (Assuming you have a file like G16-A03-SSE42.tbz in your build context)\n",
    "COPY G16-A03-SSE42.tbz /tmp/G16-A03-SSE42.tbz\n",
    "\n",
    "# Install Gaussian by extracting it to /opt/gaussian\n",
    "RUN mkdir -p /opt/gaussian && \\\n",
    "    tar xvjf /tmp/G16-A03-SSE42.tbz -C /opt/gaussian && \\\n",
    "    rm /tmp/G16-A03-SSE42.tbz\n",
    "RUN mkdir -p /opt/gaussian/scr && chmod -R 777 /opt/gaussian/scr\n",
    "\n",
    "# Install Jupyter, Open Babel, and clean up\n",
    "RUN /opt/conda/bin/conda install jupyter -y --quiet && \\\n",
    "    apt-get update && apt-get install -y \\\n",
    "    openbabel \\\n",
    "    graphviz \\\n",
    "    xdg-utils && \\\n",
    "    /opt/conda/bin/conda clean -a -y\n",
    "\n",
    "# Install psi4 from conda-forge channel\n",
    "RUN /opt/conda/bin/conda install -c conda-forge psi4 -y && \\\n",
    "    /opt/conda/bin/conda clean -a -y\n",
    "    \n",
    "# Copy the requirements file into the container\n",
    "COPY requirements.txt /tmp/requirements.txt\n",
    "\n",
    "# Install Python dependencies from requirements.txt\n",
    "RUN /opt/conda/bin/pip install -r /tmp/requirements.txt && \\\n",
    "    rm /tmp/requirements.txt\n",
    "    \n",
    "# Set the working directory for notebooks\n",
    "WORKDIR /opt/notebooks\n",
    "\n",
    "# Command to run Jupyter Notebook\n",
    "CMD /opt/conda/bin/jupyter notebook --notebook-dir=/opt/notebooks --ip='*' --port=8888 --no-browser --allow-root\n",
    "```"
   ]
  },
  {
   "cell_type": "markdown",
   "id": "371e0985-d7c9-451e-8c06-7f8162cdb5db",
   "metadata": {},
   "source": [
    "\n",
    "### Place the Gaussian .tbz file (e.g., G16-A03-SSE42.tbz) in the same directory as this Dockerfile.\n",
    "\n",
    "### Build the Docker image using the following command:\n",
    "\n",
    "bash\n",
    "```\n",
    "docker build -t gaussian-jupyter .\n",
    "```\n",
    "\n",
    "### Run the Docker container with mounted volume for Jupyter notebooks and port mapping as per your original command:\n",
    "\n",
    "bash\n",
    "```\n",
    "sudo docker run -i -t -p 8888:8888 -v /path/mount/dir:/opt/notebooks gaussian-jupyter\n",
    "```\n",
    "\n",
    "This Dockerfile ensures that Gaussian and Jupyter are both installed in the container. Gaussian is installed in /opt/gaussian, and you can run Jupyter notebooks from the /opt/notebooks directory, which is mounted from your host system.\n"
   ]
  },
  {
   "cell_type": "code",
   "execution_count": 1,
   "id": "d2423438-d5cd-4d20-a5c7-8b7c3d03f097",
   "metadata": {},
   "outputs": [],
   "source": [
    "import pandas as pd"
   ]
  },
  {
   "cell_type": "code",
   "execution_count": 2,
   "id": "c53c0a69-594a-4000-ba0a-e9c3e64a2362",
   "metadata": {},
   "outputs": [],
   "source": [
    "antidiabetic_df = pd.read_csv('../data/antidiabetic/antidiabetic_molecules_smiles.csv')"
   ]
  },
  {
   "cell_type": "code",
   "execution_count": 3,
   "id": "a957b2aa-000c-4aed-8fd4-7eaec7075e22",
   "metadata": {},
   "outputs": [],
   "source": [
    "import os\n",
    "\n",
    "# Set Gaussian environment variables in the notebook\n",
    "os.environ['GAUSS_EXEDIR'] = '/opt/gaussian/g16'\n",
    "os.environ['GAUSS_SCRDIR'] = '/opt/gaussian/scr'"
   ]
  },
  {
   "cell_type": "code",
   "execution_count": 6,
   "id": "df4debfd-711b-4299-a681-843a1fc5dea7",
   "metadata": {},
   "outputs": [],
   "source": [
    "import os\n",
    "import subprocess\n",
    "import pandas as pd\n",
    "import logging\n",
    "from colorama import Fore, Style\n",
    "\n",
    "# Налаштування логування\n",
    "logging.basicConfig(level=logging.INFO, format=\"%(message)s\")\n",
    "\n",
    "def log_success(message):\n",
    "    logging.info(Fore.GREEN + message + Style.RESET_ALL)\n",
    "\n",
    "def log_error(message):\n",
    "    logging.error(Fore.RED + message + Style.RESET_ALL)\n",
    "\n",
    "def generate_gjf_file(smiles: str, file_path: str):\n",
    "    command = f'obabel -:\"{smiles}\" -O {file_path} --gen3d'\n",
    "    process = subprocess.run(command, shell=True, stdout=subprocess.PIPE, stderr=subprocess.PIPE)\n",
    "    if process.returncode != 0:\n",
    "        log_error(f\"Помилка при створенні .gjf ({file_path}): {process.stderr.decode()}\")\n",
    "    else:\n",
    "        log_success(f\"Файл .gjf створено успішно: {file_path}\")\n",
    "\n",
    "def run_gaussian(file_path: str, gauss_exe_dir: str):\n",
    "    command = f\"{gauss_exe_dir}/g16 {file_path}\"\n",
    "    process = subprocess.run(command, shell=True, stdout=subprocess.PIPE, stderr=subprocess.PIPE)\n",
    "    if process.returncode != 0:\n",
    "        log_error(f\"Помилка при запуску Gaussian ({file_path}): {process.stderr.decode()}\")\n",
    "    else:\n",
    "        log_success(f\"Gaussian виконано успішно: {file_path}\")\n",
    "\n",
    "def convert_to_mol(log_file: str, mol_file: str):\n",
    "    command = f\"obabel {log_file} -O {mol_file}\"\n",
    "    process = subprocess.run(command, shell=True, stdout=subprocess.PIPE, stderr=subprocess.PIPE)\n",
    "    if process.returncode != 0:\n",
    "        log_error(f\"Помилка при конвертації у .mol ({log_file}): {process.stderr.decode()}\")\n",
    "    else:\n",
    "        log_success(f\"Конвертація у .mol виконана успішно: {mol_file}\")\n",
    "\n",
    "def process_molecules(df: pd.DataFrame, save_path: str):\n",
    "    os.makedirs(save_path, exist_ok=True)  # Створення папки, якщо не існує\n",
    "    \n",
    "    gauss_exe_dir = os.environ.get(\"GAUSS_EXEDIR\")\n",
    "    if not gauss_exe_dir:\n",
    "        log_error(\"Переменная окружения GAUSS_EXEDIR не установлена.\")\n",
    "        return\n",
    "    \n",
    "    for index, row in df.iterrows():\n",
    "        name_file = os.path.join(save_path, f\"{row['id']}.gjf\")\n",
    "        log_file = os.path.join(save_path, f\"{row['id']}.log\")\n",
    "        mol_file = os.path.join(save_path, f\"{row['id']}.mol\")\n",
    "        chk_file = os.path.join(save_path, f\"{row['id']}.chk\")\n",
    "        \n",
    "        generate_gjf_file(row[\"SMILES\"], name_file)\n",
    "        \n",
    "        if not os.path.exists(name_file):\n",
    "            log_error(f\"Файл {name_file} не створений, пропуск обробки.\")\n",
    "            continue\n",
    "        \n",
    "        new_lines = [\n",
    "            \"%NProcShared=6\\n\",\n",
    "            \"%mem=5GB\\n\",\n",
    "            f\"%chk={chk_file}\\n\",\n",
    "            \"# PM6 Opt\\n\",\n",
    "            \"\\n\",  # Порожній рядок\n",
    "            \"Title Card\\n\",\n",
    "            \"\\n\"\n",
    "        ]\n",
    "        \n",
    "        with open(name_file, \"r\") as file:\n",
    "            lines = file.readlines()\n",
    "        \n",
    "        if len(lines) < 5:\n",
    "            log_error(f\"Помилка: файл {name_file} має недостатньо рядків.\")\n",
    "            continue\n",
    "        \n",
    "        lines = new_lines + lines[5:]\n",
    "        \n",
    "        with open(name_file, \"w\") as file:\n",
    "            file.writelines(lines)\n",
    "        \n",
    "        run_gaussian(name_file, gauss_exe_dir)\n",
    "        convert_to_mol(log_file, mol_file)\n",
    "    \n",
    "    log_success(\"Обробка завершена!\")\n"
   ]
  },
  {
   "cell_type": "code",
   "execution_count": 5,
   "id": "528d2313-ae07-4705-892b-674e4a65c5b4",
   "metadata": {},
   "outputs": [
    {
     "name": "stderr",
     "output_type": "stream",
     "text": [
      "\u001b[32mФайл .gjf створено успішно: Gauss/antidiabetic/DB00197.gjf\u001b[0m\n",
      "\u001b[32mGaussian виконано успішно: Gauss/antidiabetic/DB00197.gjf\u001b[0m\n",
      "\u001b[32mКонвертація у .mol виконана успішно: Gauss/antidiabetic/DB00197.mol\u001b[0m\n",
      "\u001b[32mФайл .gjf створено успішно: Gauss/antidiabetic/DB00222.gjf\u001b[0m\n",
      "\u001b[32mGaussian виконано успішно: Gauss/antidiabetic/DB00222.gjf\u001b[0m\n",
      "\u001b[32mКонвертація у .mol виконана успішно: Gauss/antidiabetic/DB00222.mol\u001b[0m\n",
      "\u001b[32mФайл .gjf створено успішно: Gauss/antidiabetic/DB00284.gjf\u001b[0m\n",
      "\u001b[31mПомилка при запуску Gaussian (Gauss/antidiabetic/DB00284.gjf): Segmentation fault (core dumped)\n",
      "\u001b[0m\n",
      "\u001b[32mКонвертація у .mol виконана успішно: Gauss/antidiabetic/DB00284.mol\u001b[0m\n",
      "\u001b[32mОбробка завершена!\u001b[0m\n"
     ]
    }
   ],
   "source": [
    "df = antidiabetic_df[:3].copy()\n",
    "process_molecules(df, \"../gauss_files/antidiabetic/\")"
   ]
  },
  {
   "cell_type": "code",
   "execution_count": null,
   "id": "6163c189-e4a1-47a6-b95a-6a06ea599192",
   "metadata": {},
   "outputs": [],
   "source": []
  }
 ],
 "metadata": {
  "kernelspec": {
   "display_name": "Python 3 (ipykernel)",
   "language": "python",
   "name": "python3"
  },
  "language_info": {
   "codemirror_mode": {
    "name": "ipython",
    "version": 3
   },
   "file_extension": ".py",
   "mimetype": "text/x-python",
   "name": "python",
   "nbconvert_exporter": "python",
   "pygments_lexer": "ipython3",
   "version": "3.12.2"
  }
 },
 "nbformat": 4,
 "nbformat_minor": 5
}
